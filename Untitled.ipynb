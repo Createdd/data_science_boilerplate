{
 "cells": [
  {
   "cell_type": "code",
   "execution_count": 1,
   "id": "durable-innocent",
   "metadata": {
    "ExecuteTime": {
     "end_time": "2021-02-20T18:58:18.946166Z",
     "start_time": "2021-02-20T18:58:18.935759Z"
    }
   },
   "outputs": [
    {
     "name": "stdout",
     "output_type": "stream",
     "text": [
      "example\n"
     ]
    }
   ],
   "source": [
    "print('example')"
   ]
  },
  {
   "cell_type": "code",
   "execution_count": null,
   "id": "cooperative-talent",
   "metadata": {},
   "outputs": [],
   "source": []
  }
 ],
 "metadata": {
  "hide_input": false,
  "kernelspec": {
   "display_name": "crypto_art_data_conda",
   "language": "python",
   "name": "crypto_art_data_conda"
  },
  "language_info": {
   "codemirror_mode": {
    "name": "ipython",
    "version": 3
   },
   "file_extension": ".py",
   "mimetype": "text/x-python",
   "name": "python",
   "nbconvert_exporter": "python",
   "pygments_lexer": "ipython3",
   "version": "3.7.10"
  },
  "toc": {
   "base_numbering": 1,
   "nav_menu": {},
   "number_sections": true,
   "sideBar": true,
   "skip_h1_title": false,
   "title_cell": "Table of Contents",
   "title_sidebar": "Contents",
   "toc_cell": false,
   "toc_position": {},
   "toc_section_display": true,
   "toc_window_display": false
  }
 },
 "nbformat": 4,
 "nbformat_minor": 5
}
